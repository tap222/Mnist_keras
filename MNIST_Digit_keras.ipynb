{
 "cells": [
  {
   "cell_type": "code",
   "execution_count": 1,
   "metadata": {},
   "outputs": [
    {
     "name": "stderr",
     "output_type": "stream",
     "text": [
      "/home/tapas/anaconda3/lib/python3.6/site-packages/h5py/__init__.py:34: FutureWarning: Conversion of the second argument of issubdtype from `float` to `np.floating` is deprecated. In future, it will be treated as `np.float64 == np.dtype(float).type`.\n",
      "  from ._conv import register_converters as _register_converters\n",
      "Using TensorFlow backend.\n"
     ]
    }
   ],
   "source": [
    "import numpy\n",
    "from keras.datasets import mnist\n",
    "from keras.models import Sequential\n",
    "from keras.layers import Dense\n",
    "from keras.layers import Dropout\n",
    "from keras.utils import np_utils"
   ]
  },
  {
   "cell_type": "code",
   "execution_count": 3,
   "metadata": {},
   "outputs": [
    {
     "name": "stdout",
     "output_type": "stream",
     "text": [
      "Downloading data from https://s3.amazonaws.com/img-datasets/mnist.npz\n",
      "11493376/11490434 [==============================] - 68s 6us/step\n",
      "60000\n"
     ]
    }
   ],
   "source": [
    "# fix random seed for reproducibility\n",
    "seed = 7\n",
    "numpy.random.seed(seed)\n",
    "(X_train, y_train), (X_test, y_test) = mnist.load_data()\n",
    "for item in y_train.shape:\n",
    "    print(item)"
   ]
  },
  {
   "cell_type": "code",
   "execution_count": 4,
   "metadata": {
    "collapsed": true
   },
   "outputs": [],
   "source": [
    "num_pixels = X_train.shape[1] * X_train.shape[2]"
   ]
  },
  {
   "cell_type": "code",
   "execution_count": 5,
   "metadata": {
    "collapsed": true
   },
   "outputs": [],
   "source": [
    "X_train = X_train.reshape(X_train.shape[0], num_pixels).astype('float32')"
   ]
  },
  {
   "cell_type": "code",
   "execution_count": 6,
   "metadata": {
    "collapsed": true
   },
   "outputs": [],
   "source": [
    "X_test = X_test.reshape(X_test.shape[0], num_pixels).astype('float32')"
   ]
  },
  {
   "cell_type": "code",
   "execution_count": 8,
   "metadata": {},
   "outputs": [
    {
     "name": "stdout",
     "output_type": "stream",
     "text": [
      "(60000, 784)\n"
     ]
    }
   ],
   "source": [
    "# normalize inputs from 0-255 to 0-1\n",
    "X_train = X_train / 255\n",
    "X_test = X_test / 255\n",
    "print(X_train.shape)"
   ]
  },
  {
   "cell_type": "code",
   "execution_count": 9,
   "metadata": {
    "collapsed": true
   },
   "outputs": [],
   "source": [
    "# one hot encode outputs\n",
    "y_train = np_utils.to_categorical(y_train)\n",
    "y_test = np_utils.to_categorical(y_test)\n",
    "num_classes = y_test.shape[1]"
   ]
  },
  {
   "cell_type": "code",
   "execution_count": 10,
   "metadata": {
    "collapsed": true
   },
   "outputs": [],
   "source": [
    "# define baseline model\n",
    "def baseline_model():\n",
    "    # create model\n",
    "    model = Sequential()\n",
    "    model.add(Dense(num_pixels, input_dim=num_pixels, init='normal', activation='relu'))\n",
    "    model.add(Dense(num_classes, init='normal', activation='softmax'))\n",
    "    # Compile model\n",
    "    model.compile(loss='categorical_crossentropy', optimizer='adam', metrics=['accuracy'])\n",
    "    return model"
   ]
  },
  {
   "cell_type": "code",
   "execution_count": 11,
   "metadata": {},
   "outputs": [
    {
     "name": "stderr",
     "output_type": "stream",
     "text": [
      "/home/tapas/anaconda3/lib/python3.6/site-packages/ipykernel_launcher.py:5: UserWarning: Update your `Dense` call to the Keras 2 API: `Dense(784, input_dim=784, activation=\"relu\", kernel_initializer=\"normal\")`\n",
      "  \"\"\"\n",
      "/home/tapas/anaconda3/lib/python3.6/site-packages/ipykernel_launcher.py:6: UserWarning: Update your `Dense` call to the Keras 2 API: `Dense(10, activation=\"softmax\", kernel_initializer=\"normal\")`\n",
      "  \n"
     ]
    }
   ],
   "source": [
    "# build the model\n",
    "model = baseline_model()"
   ]
  },
  {
   "cell_type": "code",
   "execution_count": 12,
   "metadata": {},
   "outputs": [
    {
     "name": "stderr",
     "output_type": "stream",
     "text": [
      "/home/tapas/.local/lib/python3.6/site-packages/keras/models.py:944: UserWarning: The `nb_epoch` argument in `fit` has been renamed `epochs`.\n",
      "  warnings.warn('The `nb_epoch` argument in `fit` '\n"
     ]
    },
    {
     "name": "stdout",
     "output_type": "stream",
     "text": [
      "Train on 60000 samples, validate on 10000 samples\n",
      "Epoch 1/20\n",
      "60000/60000 [==============================] - 21s 346us/step - loss: 0.2782 - acc: 0.9211 - val_loss: 0.1412 - val_acc: 0.9573\n",
      "Epoch 2/20\n",
      "60000/60000 [==============================] - 21s 345us/step - loss: 0.1115 - acc: 0.9677 - val_loss: 0.0926 - val_acc: 0.9706\n",
      "Epoch 3/20\n",
      "60000/60000 [==============================] - 21s 355us/step - loss: 0.0718 - acc: 0.9796 - val_loss: 0.0784 - val_acc: 0.9777\n",
      "Epoch 4/20\n",
      "60000/60000 [==============================] - 21s 350us/step - loss: 0.0503 - acc: 0.9855 - val_loss: 0.0756 - val_acc: 0.9770\n",
      "Epoch 5/20\n",
      "60000/60000 [==============================] - 21s 350us/step - loss: 0.0372 - acc: 0.9894 - val_loss: 0.0670 - val_acc: 0.9791\n",
      "Epoch 6/20\n",
      "60000/60000 [==============================] - 21s 355us/step - loss: 0.0270 - acc: 0.9928 - val_loss: 0.0636 - val_acc: 0.9803\n",
      "Epoch 7/20\n",
      "60000/60000 [==============================] - 21s 356us/step - loss: 0.0210 - acc: 0.9946 - val_loss: 0.0609 - val_acc: 0.9809\n",
      "Epoch 8/20\n",
      "60000/60000 [==============================] - 21s 357us/step - loss: 0.0137 - acc: 0.9970 - val_loss: 0.0614 - val_acc: 0.9800\n",
      "Epoch 9/20\n",
      "60000/60000 [==============================] - 21s 356us/step - loss: 0.0108 - acc: 0.9978 - val_loss: 0.0584 - val_acc: 0.9808\n",
      "Epoch 10/20\n",
      "60000/60000 [==============================] - 21s 356us/step - loss: 0.0081 - acc: 0.9985 - val_loss: 0.0588 - val_acc: 0.9812\n",
      "Epoch 11/20\n",
      "60000/60000 [==============================] - 21s 358us/step - loss: 0.0065 - acc: 0.9988 - val_loss: 0.0642 - val_acc: 0.9802\n",
      "Epoch 12/20\n",
      "60000/60000 [==============================] - 22s 359us/step - loss: 0.0042 - acc: 0.9995 - val_loss: 0.0562 - val_acc: 0.9836\n",
      "Epoch 13/20\n",
      "60000/60000 [==============================] - 22s 359us/step - loss: 0.0026 - acc: 0.9999 - val_loss: 0.0594 - val_acc: 0.9833\n",
      "Epoch 14/20\n",
      "60000/60000 [==============================] - 22s 360us/step - loss: 0.0022 - acc: 0.9998 - val_loss: 0.0621 - val_acc: 0.9834\n",
      "Epoch 15/20\n",
      "60000/60000 [==============================] - 22s 362us/step - loss: 0.0016 - acc: 1.0000 - val_loss: 0.0618 - val_acc: 0.9837\n",
      "Epoch 16/20\n",
      "60000/60000 [==============================] - 22s 362us/step - loss: 0.0016 - acc: 0.9998 - val_loss: 0.0684 - val_acc: 0.9810\n",
      "Epoch 17/20\n",
      "60000/60000 [==============================] - 22s 367us/step - loss: 0.0149 - acc: 0.9953 - val_loss: 0.0840 - val_acc: 0.9771\n",
      "Epoch 18/20\n",
      "60000/60000 [==============================] - 22s 364us/step - loss: 0.0108 - acc: 0.9964 - val_loss: 0.0722 - val_acc: 0.9818\n",
      "Epoch 19/20\n",
      "60000/60000 [==============================] - 22s 366us/step - loss: 0.0049 - acc: 0.9986 - val_loss: 0.0741 - val_acc: 0.9818\n",
      "Epoch 20/20\n",
      "60000/60000 [==============================] - 23s 380us/step - loss: 0.0020 - acc: 0.9996 - val_loss: 0.0626 - val_acc: 0.9845\n"
     ]
    },
    {
     "data": {
      "text/plain": [
       "<keras.callbacks.History at 0x7efbfae62d30>"
      ]
     },
     "execution_count": 12,
     "metadata": {},
     "output_type": "execute_result"
    }
   ],
   "source": [
    "# Fit the model\n",
    "model.fit(X_train, y_train, validation_data=(X_test, y_test), nb_epoch=20, batch_size=200, verbose=1)"
   ]
  },
  {
   "cell_type": "code",
   "execution_count": 13,
   "metadata": {},
   "outputs": [
    {
     "name": "stdout",
     "output_type": "stream",
     "text": [
      "Baseline Error: 1.55%\n"
     ]
    }
   ],
   "source": [
    "# Final evaluation of the model\n",
    "scores = model.evaluate(X_test, y_test, verbose=0)\n",
    "print(\"Baseline Error: %.2f%%\" % (100-scores[1]*100))"
   ]
  },
  {
   "cell_type": "code",
   "execution_count": 14,
   "metadata": {
    "collapsed": true
   },
   "outputs": [],
   "source": [
    "# serialize model to JSON\n",
    "model_json = model.to_json()\n",
    "with open(\"model.json\", \"w\") as json_file:\n",
    "    json_file.write(model_json)"
   ]
  },
  {
   "cell_type": "code",
   "execution_count": 15,
   "metadata": {},
   "outputs": [
    {
     "name": "stdout",
     "output_type": "stream",
     "text": [
      "Saved model to disk\n"
     ]
    }
   ],
   "source": [
    "# serialize weights to HDF5\n",
    "model.save_weights(\"model.h5\")\n",
    "print(\"Saved model to disk\")"
   ]
  },
  {
   "cell_type": "code",
   "execution_count": null,
   "metadata": {
    "collapsed": true
   },
   "outputs": [],
   "source": []
  }
 ],
 "metadata": {
  "kernelspec": {
   "display_name": "Python 3",
   "language": "python",
   "name": "python3"
  },
  "language_info": {
   "codemirror_mode": {
    "name": "ipython",
    "version": 3
   },
   "file_extension": ".py",
   "mimetype": "text/x-python",
   "name": "python",
   "nbconvert_exporter": "python",
   "pygments_lexer": "ipython3",
   "version": "3.6.2"
  }
 },
 "nbformat": 4,
 "nbformat_minor": 2
}
